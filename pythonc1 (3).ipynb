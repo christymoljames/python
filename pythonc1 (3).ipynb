{
  "nbformat": 4,
  "nbformat_minor": 0,
  "metadata": {
    "colab": {
      "name": "pythonc1.ipynb",
      "provenance": [],
      "collapsed_sections": []
    },
    "kernelspec": {
      "name": "python3",
      "display_name": "Python 3"
    }
  },
  "cells": [
    {
      "cell_type": "code",
      "metadata": {
        "colab": {
          "base_uri": "https://localhost:8080/"
        },
        "id": "jLCCG7KtELQD",
        "outputId": "83b61ffd-47fa-41f0-e4b1-fcbb4d6d6b80"
      },
      "source": [
        "PYTHON C1\r\n",
        "\r\n",
        "\r\n",
        "#Program to demonstrate basic data type in Python?\r\n",
        "\r\n",
        "a=1\r\n",
        "\r\n",
        "\r\n",
        "print(\"the value of\",a,\"is of the type\",type(a))\r\n",
        "b=\"hello\"\r\n",
        "\r\n",
        "\r\n",
        "print(\"the value of\",b,\"is of the type\",type(b))\r\n",
        "c=3.14\r\n",
        "\r\n",
        "\r\n",
        "print(\"the value of\",c,\"is of the type\",type(c))\r\n",
        "d=2j\r\n",
        "\r\n",
        "\r\n",
        "print(\"the value of\",d,\"is of the type\",type(d))\r\n",
        "e={\"ads\",\"web\",\"python\"}\r\n",
        "\r\n",
        "\r\n",
        "print(\"the value of\",e,\"is of the type\",type(e))\r\n",
        "f=(\"ads\",\"web\",\"python\")\r\n",
        "\r\n",
        "\r\n",
        "print(\"the value of\",f,\"is of the type\",type(f))\r\n",
        "g=[\"ads\",\"web\",\"python\"]\r\n",
        "\r\n",
        "\r\n",
        "print(\"the value of\",g,\"is of the type\",type(g))\r\n",
        "h=range(5)\r\n",
        "\r\n",
        "\r\n",
        "print(\"the value of\",h,\"is of the type\",type(h))\r\n",
        "i=True\r\n",
        "\r\n",
        "\r\n",
        "print(\"the value of\",i,\"is of the type\",type(i))\r\n"
      ],
      "execution_count": null,
      "outputs": [
        {
          "output_type": "stream",
          "text": [
            "the value of 1 is of the type <class 'int'>\n",
            "the value of hello is of the type <class 'str'>\n",
            "the value of 3.14 is of the type <class 'float'>\n",
            "the value of 2j is of the type <class 'complex'>\n",
            "the value of {'ads', 'python', 'web'} is of the type <class 'set'>\n",
            "the value of ('ads', 'web', 'python') is of the type <class 'tuple'>\n",
            "the value of ['ads', 'web', 'python'] is of the type <class 'list'>\n",
            "the value of range(0, 5) is of the type <class 'range'>\n",
            "the value of True is of the type <class 'bool'>\n"
          ],
          "name": "stdout"
        }
      ]
    },
    {
      "cell_type": "code",
      "metadata": {
        "id": "Z5o1YAKq0HeL"
      },
      "source": [
        "2.#“Hello , World !” program."
      ],
      "execution_count": null,
      "outputs": []
    },
    {
      "cell_type": "code",
      "metadata": {
        "colab": {
          "base_uri": "https://localhost:8080/"
        },
        "id": "K7gfh1vXFl5I",
        "outputId": "e887e406-b3e9-49f6-ee5e-50e6e67130aa"
      },
      "source": [
        "print(\"Hello, World !\")\r\n",
        " \r\n"
      ],
      "execution_count": null,
      "outputs": [
        {
          "output_type": "stream",
          "text": [
            "Hello, World !\n"
          ],
          "name": "stdout"
        }
      ]
    },
    {
      "cell_type": "code",
      "metadata": {
        "id": "VIFgQkdO0axZ"
      },
      "source": [
        "3.#Program to print an integer(entered by the user).\r\n",
        "\r\n"
      ],
      "execution_count": null,
      "outputs": []
    },
    {
      "cell_type": "code",
      "metadata": {
        "colab": {
          "base_uri": "https://localhost:8080/"
        },
        "id": "wwBfJDO7GW0E",
        "outputId": "2c63c0ce-e02a-4215-c5b4-7a6f1c4f0be4"
      },
      "source": [
        "x=int(input(\"enter a integer value :\"))\r\n",
        "print(x)\r\n"
      ],
      "execution_count": null,
      "outputs": [
        {
          "output_type": "stream",
          "text": [
            "enter a integer value :5\n",
            "5\n"
          ],
          "name": "stdout"
        }
      ]
    },
    {
      "cell_type": "code",
      "metadata": {
        "id": "i8nt10m003HW"
      },
      "source": [
        "4.#Program to add two integers."
      ],
      "execution_count": null,
      "outputs": []
    },
    {
      "cell_type": "code",
      "metadata": {
        "colab": {
          "base_uri": "https://localhost:8080/"
        },
        "id": "4rpZt5lyGbNt",
        "outputId": "ea9ffeb7-6d49-4fda-c9b0-02ebc01ab66d"
      },
      "source": [
        "x=int(input(\"enter the value of first integer :\"))\r\n",
        "y=int(input(\"enter the value of second integer :\"))\r\n",
        "z=x+y\r\n",
        "print(\"sum :\",z)\r\n"
      ],
      "execution_count": null,
      "outputs": [
        {
          "output_type": "stream",
          "text": [
            "enter the value of first integer :9\n",
            "enter the value of second integer :5\n",
            "sum : 14\n"
          ],
          "name": "stdout"
        }
      ]
    },
    {
      "cell_type": "code",
      "metadata": {
        "id": "8KLzHLgM1Gs9"
      },
      "source": [
        "5.#Program to multiply two floating point numbers."
      ],
      "execution_count": null,
      "outputs": []
    },
    {
      "cell_type": "code",
      "metadata": {
        "colab": {
          "base_uri": "https://localhost:8080/"
        },
        "id": "qgqjQgI1GyBp",
        "outputId": "843f4360-a0ef-4533-9290-54c4169891aa"
      },
      "source": [
        "x=float(input(\"enter the first float value :\"))\r\n",
        "y=float(input(\"enter the second float value :\"))\r\n",
        "z=x*y\r\n",
        "print(\"product :\",z)\r\n"
      ],
      "execution_count": null,
      "outputs": [
        {
          "output_type": "stream",
          "text": [
            "enter the first float value :3.0\n",
            "enter the second float value :4.0\n",
            "product : 12.0\n"
          ],
          "name": "stdout"
        }
      ]
    },
    {
      "cell_type": "code",
      "metadata": {
        "id": "e5eSwQX81Uw1"
      },
      "source": [
        "6.#Program to compute quotient and remainder.\r\n"
      ],
      "execution_count": null,
      "outputs": []
    },
    {
      "cell_type": "code",
      "metadata": {
        "colab": {
          "base_uri": "https://localhost:8080/"
        },
        "id": "1RZY4NtuHIWL",
        "outputId": "012e10a6-1b2b-4024-c8c9-f03b21994d61"
      },
      "source": [
        "a=int(input(\"enter the first value :\"))\r\n",
        "b=int(input(\"enter the second value :\"))\r\n",
        "q=a//b\r\n",
        "print(\"quotient :\",q)\r\n",
        "r=a%b\r\n",
        "print(\"remainder :\",r)\r\n"
      ],
      "execution_count": null,
      "outputs": [
        {
          "output_type": "stream",
          "text": [
            "enter the first value :10\n",
            "enter the second value :2\n",
            "quotient : 5\n",
            "remainder : 0\n"
          ],
          "name": "stdout"
        }
      ]
    },
    {
      "cell_type": "code",
      "metadata": {
        "id": "VomgbBpp1i4S"
      },
      "source": [
        "7.#Program to swap two numbers.\r\n"
      ],
      "execution_count": null,
      "outputs": []
    },
    {
      "cell_type": "code",
      "metadata": {
        "colab": {
          "base_uri": "https://localhost:8080/"
        },
        "id": "n3B93BDIHYAJ",
        "outputId": "292709e2-bf75-4d1b-88c2-fbd91d6df11e"
      },
      "source": [
        "x=float(input(\"enter the first number :\"))\r\n",
        "y=float(input(\"enter the second number :\"))\r\n",
        "print(\"value of the first number before swapping :\",x)\r\n",
        "print(\"value of the second number before swapping :\",y)\r\n",
        "z=x\r\n",
        "x=y\r\n",
        "y=z\r\n",
        "print(\"value of the first number after swapping :\",x)\r\n",
        "print(\"value of the second number after swapping :\",y)\r\n"
      ],
      "execution_count": null,
      "outputs": [
        {
          "output_type": "stream",
          "text": [
            "enter the first number :1.0\n",
            "enter the second number :9.0\n",
            "value of the first number before swapping : 1.0\n",
            "value of the second number before swapping : 9.0\n",
            "value of the first number after swapping : 9.0\n",
            "value of the second number after swapping : 1.0\n"
          ],
          "name": "stdout"
        }
      ]
    },
    {
      "cell_type": "code",
      "metadata": {
        "id": "Jm21xSP51zsk"
      },
      "source": [
        "8.#Program to check whether a number is even or odd."
      ],
      "execution_count": null,
      "outputs": []
    },
    {
      "cell_type": "code",
      "metadata": {
        "colab": {
          "base_uri": "https://localhost:8080/"
        },
        "id": "XVUHubrmHsYE",
        "outputId": "2a4626c2-910d-4810-dae1-7267a427ef5a"
      },
      "source": [
        "x=int(input(\"enter any number :\"))\r\n",
        "y = x%2\r\n",
        "if y==0:\r\n",
        "  print(x,\"is an even number.\")\r\n",
        "else:\r\n",
        "    print(x,\"is an odd number.\")\r\n"
      ],
      "execution_count": null,
      "outputs": [
        {
          "output_type": "stream",
          "text": [
            "enter any number :4\n",
            "4 is an even number.\n"
          ],
          "name": "stdout"
        }
      ]
    },
    {
      "cell_type": "code",
      "metadata": {
        "id": "d1xt1_lz1-NV"
      },
      "source": [
        "9.#Program to check whether a character is vowel or consonant.\r\n"
      ],
      "execution_count": null,
      "outputs": []
    },
    {
      "cell_type": "code",
      "metadata": {
        "colab": {
          "base_uri": "https://localhost:8080/"
        },
        "id": "tdIZ9J1sH_Wm",
        "outputId": "3ae57945-6f46-4cc1-bebe-bc653016c675"
      },
      "source": [
        "ch=input(\"enter any character :\")\r\n",
        "if (ch=='A'or ch=='E' or ch=='I' or ch=='O' or ch=='U'or ch=='a' or ch=='e' or ch=='i' or ch=='o' or ch=='u'):\r\n",
        "  print(ch,\"is a vowel.\")\r\n",
        "else:\r\n",
        "  print(ch,\"is a consonant.\")\r\n"
      ],
      "execution_count": null,
      "outputs": [
        {
          "output_type": "stream",
          "text": [
            "enter any character :b\n",
            "b is a consonant.\n"
          ],
          "name": "stdout"
        }
      ]
    },
    {
      "cell_type": "code",
      "metadata": {
        "id": "28nhWiRG2hmv"
      },
      "source": [
        "10.#Program to check leap year."
      ],
      "execution_count": null,
      "outputs": []
    },
    {
      "cell_type": "code",
      "metadata": {
        "colab": {
          "base_uri": "https://localhost:8080/"
        },
        "id": "GKWitAqqILRH",
        "outputId": "ea420409-0d45-4ed5-b928-f3f5130cf694"
      },
      "source": [
        "a=float(input(\"enter the first number :\"))\r\n",
        "b=float(input(\"enter the second number :\"))\r\n",
        "c=float(input(\"enter the third number :\"))\r\n",
        "if (a>b) and (a>c):\r\n",
        "  print(a,\"is largest number.\")\r\n",
        "elif (b>a) and (b>c):\r\n",
        "  print(b,\"is the largest number.\")\r\n",
        "else:\r\n",
        "  print(c,\"is the largest number.\")\r\n"
      ],
      "execution_count": null,
      "outputs": [
        {
          "output_type": "stream",
          "text": [
            "enter the first number :7.0\n",
            "enter the second number :4.0\n",
            "enter the third number :10.0\n",
            "10.0 is the largest number.\n"
          ],
          "name": "stdout"
        }
      ]
    },
    {
      "cell_type": "code",
      "metadata": {
        "colab": {
          "base_uri": "https://localhost:8080/"
        },
        "id": "ZYfMsmMkIc1K",
        "outputId": "74d47976-1cdb-4a63-8c56-0d89c1c2dc81"
      },
      "source": [
        "yr=int(input(\"enter a year :\"))\r\n",
        "if ((yr%400==0) or ((yr%4==0) and (yr%100!=0))):\r\n",
        " print(yr,\"is a leap year.\")\r\n",
        "else:\r\n",
        "  print(yr,\"is not a leap year.\")\r\n"
      ],
      "execution_count": null,
      "outputs": [
        {
          "output_type": "stream",
          "text": [
            "enter a year :2020\n",
            "2020 is a leap year.\n"
          ],
          "name": "stdout"
        }
      ]
    },
    {
      "cell_type": "code",
      "metadata": {
        "id": "SS-U9lfu2wbq"
      },
      "source": [
        "12.#Program to check whether a number is positive or negative"
      ],
      "execution_count": null,
      "outputs": []
    },
    {
      "cell_type": "code",
      "metadata": {
        "colab": {
          "base_uri": "https://localhost:8080/"
        },
        "id": "xyoBpI3SIoxQ",
        "outputId": "d9a50ae8-de96-42ed-d79e-12263526ec02"
      },
      "source": [
        "x=int(input(\"enter any number:\"))\r\n",
        "if x>0:\r\n",
        "  print(x,\"is a positive number.\")\r\n",
        "else:\r\n",
        "  print(x,\"is a negative number.\")\r\n"
      ],
      "execution_count": null,
      "outputs": [
        {
          "output_type": "stream",
          "text": [
            "enter any number:-5\n",
            "-5 is a negative number.\n"
          ],
          "name": "stdout"
        }
      ]
    },
    {
      "cell_type": "code",
      "metadata": {
        "id": "9WKsUNxO27XW"
      },
      "source": [
        "13.#Program to calculate the sum of natural numbers."
      ],
      "execution_count": null,
      "outputs": []
    },
    {
      "cell_type": "code",
      "metadata": {
        "colab": {
          "base_uri": "https://localhost:8080/"
        },
        "id": "xhC9-R1oJCDB",
        "outputId": "4fec338a-9926-4cb1-d71a-95bdf510464c"
      },
      "source": [
        "n=int(input(\"enter a any number :\"))\r\n",
        "if n<0:\r\n",
        "  print(\"print a positive number.\")\r\n",
        "else:\r\n",
        "  sum=0\r\n",
        "  while (n>0):\r\n",
        "    sum+=n\r\n",
        "    n-=1\r\n",
        "print(\"sum of natural numbers is\",sum)"
      ],
      "execution_count": null,
      "outputs": [
        {
          "output_type": "stream",
          "text": [
            "enter a any number :5\n",
            "sum of natural numbers is 15\n"
          ],
          "name": "stdout"
        }
      ]
    },
    {
      "cell_type": "code",
      "metadata": {
        "id": "Gf58SaWU3TCz"
      },
      "source": [
        "14.#Program to find the factorial of a number."
      ],
      "execution_count": null,
      "outputs": []
    },
    {
      "cell_type": "code",
      "metadata": {
        "colab": {
          "base_uri": "https://localhost:8080/"
        },
        "id": "I6-YtXi3JQ2C",
        "outputId": "a45cdc38-b22f-4bb8-c31e-923200ea7346"
      },
      "source": [
        "n=int(input(\"enter any number :\"))\r\n",
        "fact=1\r\n",
        "for i in range(1,n+1):\r\n",
        "  fact=fact*i\r\n",
        "print(\"factorial of\",n,\"is\",fact)"
      ],
      "execution_count": null,
      "outputs": [
        {
          "output_type": "stream",
          "text": [
            "enter any number :4\n",
            "factorial of 4 is 24\n"
          ],
          "name": "stdout"
        }
      ]
    },
    {
      "cell_type": "code",
      "metadata": {
        "id": "0u_OYE033dJ7"
      },
      "source": [
        "15.#Program to generate multiplication tables."
      ],
      "execution_count": null,
      "outputs": []
    },
    {
      "cell_type": "code",
      "metadata": {
        "colab": {
          "base_uri": "https://localhost:8080/"
        },
        "id": "10pKgy2eJZKc",
        "outputId": "fa1298fe-9abc-4410-fdef-40db3444ed89"
      },
      "source": [
        "x=int(input(\"show the multiplication table of ?\"))\r\n",
        "for i in range(1,11):\r\n",
        "  print(x,'x',i,'=',x*i)"
      ],
      "execution_count": null,
      "outputs": [
        {
          "output_type": "stream",
          "text": [
            "show the multiplication table of ?2\n",
            "2 x 1 = 2\n",
            "2 x 2 = 4\n",
            "2 x 3 = 6\n",
            "2 x 4 = 8\n",
            "2 x 5 = 10\n",
            "2 x 6 = 12\n",
            "2 x 7 = 14\n",
            "2 x 8 = 16\n",
            "2 x 9 = 18\n",
            "2 x 10 = 20\n"
          ],
          "name": "stdout"
        }
      ]
    },
    {
      "cell_type": "code",
      "metadata": {
        "id": "ifrU78M53qWr"
      },
      "source": [
        "16.#Program to display fibonacci sequence."
      ],
      "execution_count": null,
      "outputs": []
    },
    {
      "cell_type": "code",
      "metadata": {
        "colab": {
          "base_uri": "https://localhost:8080/"
        },
        "id": "qck_uc0JJmtS",
        "outputId": "e2f9c5da-fd18-4d68-87cf-7f20b36bdf28"
      },
      "source": [
        "n=int(input(\"enter any number :\"))\r\n",
        "x,y =0,1\r\n",
        "count=0\r\n",
        "if n<=0:\r\n",
        "  print(\"enter a positive number.\")\r\n",
        "elif n==1:\r\n",
        "  print(\"fibonacci sequence upto\",n,\":\")\r\n",
        "  print(x)\r\n",
        "else:\r\n",
        "  print(\"fibonacci sequence :\")\r\n",
        "  while count<n:\r\n",
        "    print(x)\r\n",
        "    z=x+y\r\n",
        "    x=y\r\n",
        "    y=z\r\n",
        "    count+=1\r\n"
      ],
      "execution_count": null,
      "outputs": [
        {
          "output_type": "stream",
          "text": [
            "enter any number :2\n",
            "fibonacci sequence :\n",
            "0\n",
            "1\n"
          ],
          "name": "stdout"
        }
      ]
    },
    {
      "cell_type": "code",
      "metadata": {
        "id": "od_gnMXT32wu"
      },
      "source": [
        "17.#Program to find the LCM of two numbers.\r\n"
      ],
      "execution_count": null,
      "outputs": []
    },
    {
      "cell_type": "code",
      "metadata": {
        "colab": {
          "base_uri": "https://localhost:8080/"
        },
        "id": "MfuKr8ipJ0Xe",
        "outputId": "b5f7eaca-5a46-49f1-9c3f-fde3dadcde93"
      },
      "source": [
        "def find_lcm(x, y):\r\n",
        "   if x > y:\r\n",
        "       greater = x\r\n",
        "   else:\r\n",
        "       greater = y\r\n",
        "   while(True):\r\n",
        "       if((greater % x == 0) and (greater % y == 0)):\r\n",
        "           lcm = greater\r\n",
        "           break\r\n",
        "       greater += 1\r\n",
        "   return lcm\r\n",
        "a=int(input(\"enter the value of first number :\"))\r\n",
        "b=int(input(\"enter the value of second number :\"))\r\n",
        "print(\"the L.C.M. is\", find_lcm(a,b))\r\n"
      ],
      "execution_count": null,
      "outputs": [
        {
          "output_type": "stream",
          "text": [
            "enter the value of first number :54\n",
            "enter the value of second number :24\n",
            "the L.C.M. is 216\n"
          ],
          "name": "stdout"
        }
      ]
    },
    {
      "cell_type": "code",
      "metadata": {
        "id": "JM8wiUEV4Koh"
      },
      "source": [
        "18.#Program to count number of digits in an integer.\r\n"
      ],
      "execution_count": null,
      "outputs": []
    },
    {
      "cell_type": "code",
      "metadata": {
        "colab": {
          "base_uri": "https://localhost:8080/"
        },
        "id": "MLmPrezvKKUJ",
        "outputId": "565c2482-07cc-4650-c98c-1151a5fe71d9"
      },
      "source": [
        "n=int(input(\"enter any number :\"))\r\n",
        "count=0\r\n",
        "while (n>0):\r\n",
        "    count=count+1\r\n",
        "    n=n//10\r\n",
        "print(\"the number of digits in the given number is/are :\",count)"
      ],
      "execution_count": null,
      "outputs": [
        {
          "output_type": "stream",
          "text": [
            "enter any number :100000\n",
            "the number of digits in the given number is/are : 6\n"
          ],
          "name": "stdout"
        }
      ]
    },
    {
      "cell_type": "code",
      "metadata": {
        "id": "5miLvAo34brt"
      },
      "source": [
        "19.#Program to reverse a number."
      ],
      "execution_count": null,
      "outputs": []
    },
    {
      "cell_type": "code",
      "metadata": {
        "colab": {
          "base_uri": "https://localhost:8080/"
        },
        "id": "eD8ortXPKSRF",
        "outputId": "be684e3a-a51f-46af-bc6b-6ec593d8c33a"
      },
      "source": [
        "x=int(input(\"enter any number to be reversed :\"))\r\n",
        "rev=0\r\n",
        "while x>0:\r\n",
        "  rev=(rev*10)+(x%10)\r\n",
        "  x=x//10\r\n",
        "print(\"reverse is\",rev)\r\n"
      ],
      "execution_count": null,
      "outputs": [
        {
          "output_type": "stream",
          "text": [
            "enter any number to be reversed :23\n",
            "reverse is 32\n"
          ],
          "name": "stdout"
        }
      ]
    },
    {
      "cell_type": "code",
      "metadata": {
        "id": "I7i0Te8U4pqH"
      },
      "source": [
        "20.#Program to calculate the power of a number."
      ],
      "execution_count": null,
      "outputs": []
    },
    {
      "cell_type": "code",
      "metadata": {
        "colab": {
          "base_uri": "https://localhost:8080/"
        },
        "id": "JUovziBSKkSY",
        "outputId": "0991cd73-2e78-4521-d67b-e06a096527f3"
      },
      "source": [
        "n=int(input(\"enter any positive number :\"))\r\n",
        "e=int(input(\"enter the value of exponent :\"))\r\n",
        "p=1\r\n",
        "for i in range(1,e+1):\r\n",
        "  p=p*n\r\n",
        "print(\"the power of\",n,\"^\",e,\"is\",p)\r\n"
      ],
      "execution_count": null,
      "outputs": [
        {
          "output_type": "stream",
          "text": [
            "enter any positive number :2\n",
            "enter the value of exponent :3\n",
            "the power of 2 ^ 3 is 8\n"
          ],
          "name": "stdout"
        }
      ]
    },
    {
      "cell_type": "code",
      "metadata": {
        "id": "m_98wWci43Zf"
      },
      "source": [
        "21.#Program to check whether a number is palindrome."
      ],
      "execution_count": null,
      "outputs": []
    },
    {
      "cell_type": "code",
      "metadata": {
        "colab": {
          "base_uri": "https://localhost:8080/"
        },
        "id": "tzWUzI06Kq65",
        "outputId": "e9e79491-12ea-4ce5-a829-1806ea453224"
      },
      "source": [
        "n=int(input(\"enter any number :\"))\r\n",
        "rev=0\r\n",
        "temp=n\r\n",
        "while (temp > 0):\r\n",
        "    r=temp%10\r\n",
        "    rev=(rev*10)+r\r\n",
        "    temp=temp//10\r\n",
        "print(\"reverse of this given number is\",rev)\r\n",
        "if (n==rev):\r\n",
        "    print(n,\"is a palindrome number\")\r\n",
        "else:\r\n",
        "    print(n,\"is not a palindrome number\")\r\n"
      ],
      "execution_count": null,
      "outputs": [
        {
          "output_type": "stream",
          "text": [
            "enter any number :4567\n",
            "reverse of this given number is 7654\n",
            "4567 is not a palindrome number\n"
          ],
          "name": "stdout"
        }
      ]
    }
  ]
}