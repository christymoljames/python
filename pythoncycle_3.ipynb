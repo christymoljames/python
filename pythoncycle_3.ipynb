{
  "nbformat": 4,
  "nbformat_minor": 0,
  "metadata": {
    "colab": {
      "name": "pythoncycle--3.ipynb",
      "provenance": [],
      "collapsed_sections": []
    },
    "kernelspec": {
      "name": "python3",
      "display_name": "Python 3"
    }
  },
  "cells": [
    {
      "cell_type": "code",
      "metadata": {
        "id": "_8IPhhMIv4Ae"
      },
      "source": [
        "1.PROGRAM TO FIND THE FACTORIAL OF A NUMBER"
      ],
      "execution_count": null,
      "outputs": []
    },
    {
      "cell_type": "code",
      "metadata": {
        "colab": {
          "base_uri": "https://localhost:8080/"
        },
        "id": "pTQsa0xVvlvp",
        "outputId": "29981e57-fd54-422b-ab61-b0210ba9dbdd"
      },
      "source": [
        "num=int(input(\"Enter the number : \"))\r\n",
        "factorial = 1\r\n",
        "if num < 0:\r\n",
        "   print(\"Sorry, factorial does not exist for negative numbers\")\r\n",
        "elif num == 0:\r\n",
        "   print(\"The factorial of 0 is 1\")\r\n",
        "else:\r\n",
        "   for i in range(1,num + 1):\r\n",
        "       factorial = factorial*i\r\n",
        "   print(\"The factorial of\", num , \"is : \" , factorial)"
      ],
      "execution_count": null,
      "outputs": [
        {
          "output_type": "stream",
          "text": [
            "Enter the number : 6\n",
            "The factorial of 6 is :  720\n"
          ],
          "name": "stdout"
        }
      ]
    },
    {
      "cell_type": "code",
      "metadata": {
        "id": "isk1gd4CwWm3"
      },
      "source": [
        "2.Generate fibonacci series of N terms"
      ],
      "execution_count": null,
      "outputs": []
    },
    {
      "cell_type": "code",
      "metadata": {
        "colab": {
          "base_uri": "https://localhost:8080/"
        },
        "id": "_YRMLXumwBQQ",
        "outputId": "64ad351b-7873-41cc-abd5-70c93cd5f748"
      },
      "source": [
        "n = int(input(\"How many fibonacci numbers you want ? \"))\r\n",
        "n1, n2 = 0, 1\r\n",
        "i = 0\r\n",
        "if n <= 0:\r\n",
        "   print(\"Please enter a positive integer\")\r\n",
        "elif n == 1:\r\n",
        "   print(\"Fibonacci sequence : \" , n1)\r\n",
        "else:\r\n",
        "   print(\"Fibonacci sequence:\")\r\n",
        "   while i < n:\r\n",
        "       print(n1)\r\n",
        "       nth = n1 + n2\r\n",
        "       n1 = n2\r\n",
        "       n2 = nth\r\n",
        "       i += 1       "
      ],
      "execution_count": null,
      "outputs": [
        {
          "output_type": "stream",
          "text": [
            "How many fibonacci numbers you want ? 5\n",
            "Fibonacci sequence:\n",
            "0\n",
            "1\n",
            "1\n",
            "2\n",
            "3\n"
          ],
          "name": "stdout"
        }
      ]
    },
    {
      "cell_type": "code",
      "metadata": {
        "id": "Y5BFJlJCwmS-"
      },
      "source": [
        "3. Program to find sum of items in a list"
      ],
      "execution_count": null,
      "outputs": []
    },
    {
      "cell_type": "code",
      "metadata": {
        "colab": {
          "base_uri": "https://localhost:8080/"
        },
        "id": "HtU2EeWGwdEM",
        "outputId": "2c452e37-05e9-4f2b-bbbf-1c6a2ae2de06"
      },
      "source": [
        "list1 = [10,20,30,40,50]\r\n",
        "print(\"The list is : \" , list1)\r\n",
        "sum = 0 \r\n",
        "for x in range(0, len(list1)):\r\n",
        "    sum = sum + list1[x]\r\n",
        "print(\"Sum of all elements in the given list : \", sum)"
      ],
      "execution_count": null,
      "outputs": [
        {
          "output_type": "stream",
          "text": [
            "The list is :  [10, 20, 30, 40, 50]\n",
            "Sum of all elements in the given list :  150\n"
          ],
          "name": "stdout"
        }
      ]
    },
    {
      "cell_type": "code",
      "metadata": {
        "id": "gwZDZhsUZuE9"
      },
      "source": [
        "4. Generate a list of 4 digit numbers in a given range with all their digits even and the number is a perfect square"
      ],
      "execution_count": null,
      "outputs": []
    },
    {
      "cell_type": "code",
      "metadata": {
        "colab": {
          "base_uri": "https://localhost:8080/"
        },
        "id": "ILoQa4wwwwPk",
        "outputId": "fc1d10ce-1128-428e-cc50-151615d6cb56"
      },
      "source": [
        "import math\r\n",
        "start=1000\r\n",
        "stop=9999\r\n",
        "list=[]\r\n",
        "for x in range(start , stop+1):\r\n",
        "  if(x % 2 == 0):\r\n",
        "    root = math.sqrt(x)\r\n",
        "    if int(root + 0.5) ** 2 == x:\r\n",
        "     print(x, \"is a perfect square\")"
      ],
      "execution_count": null,
      "outputs": [
        {
          "output_type": "stream",
          "text": [
            "1024 is a perfect square\n",
            "1156 is a perfect square\n",
            "1296 is a perfect square\n",
            "1444 is a perfect square\n",
            "1600 is a perfect square\n",
            "1764 is a perfect square\n",
            "1936 is a perfect square\n",
            "2116 is a perfect square\n",
            "2304 is a perfect square\n",
            "2500 is a perfect square\n",
            "2704 is a perfect square\n",
            "2916 is a perfect square\n",
            "3136 is a perfect square\n",
            "3364 is a perfect square\n",
            "3600 is a perfect square\n",
            "3844 is a perfect square\n",
            "4096 is a perfect square\n",
            "4356 is a perfect square\n",
            "4624 is a perfect square\n",
            "4900 is a perfect square\n",
            "5184 is a perfect square\n",
            "5476 is a perfect square\n",
            "5776 is a perfect square\n",
            "6084 is a perfect square\n",
            "6400 is a perfect square\n",
            "6724 is a perfect square\n",
            "7056 is a perfect square\n",
            "7396 is a perfect square\n",
            "7744 is a perfect square\n",
            "8100 is a perfect square\n",
            "8464 is a perfect square\n",
            "8836 is a perfect square\n",
            "9216 is a perfect square\n",
            "9604 is a perfect square\n"
          ],
          "name": "stdout"
        }
      ]
    },
    {
      "cell_type": "code",
      "metadata": {
        "id": "rKGGbEEGccwo"
      },
      "source": [
        "5. Display the given pyramid with step number accepted from user. Eg: N=4 1 2 4 3 6 9 4 8 12 16"
      ],
      "execution_count": null,
      "outputs": []
    },
    {
      "cell_type": "code",
      "metadata": {
        "colab": {
          "base_uri": "https://localhost:8080/"
        },
        "id": "YDMNQfqGcbkT",
        "outputId": "a4b5eb26-132a-4703-e10f-091497c0af97"
      },
      "source": [
        "row=int(input('enter how many lines?;'))\r\n",
        "for i in range(1,row+1):\r\n",
        "   for j in range(1,row+1-i):\r\n",
        "        print(' ', end='')\r\n",
        "   for j in range(1,i+1):\r\n",
        "       print(j,end=' ')\r\n",
        "   for j in range(i-1,0,-1):\r\n",
        "        print(j,end=' ')\r\n",
        "   print()"
      ],
      "execution_count": 12,
      "outputs": [
        {
          "output_type": "stream",
          "text": [
            "enter how many lines?;8\n",
            "       1 \n",
            "      1 2 1 \n",
            "     1 2 3 2 1 \n",
            "    1 2 3 4 3 2 1 \n",
            "   1 2 3 4 5 4 3 2 1 \n",
            "  1 2 3 4 5 6 5 4 3 2 1 \n",
            " 1 2 3 4 5 6 7 6 5 4 3 2 1 \n",
            "1 2 3 4 5 6 7 8 7 6 5 4 3 2 1 \n"
          ],
          "name": "stdout"
        }
      ]
    },
    {
      "cell_type": "code",
      "metadata": {
        "id": "xNZnyVbs2I05"
      },
      "source": [
        "6. Count the no.of characters(character frequency)in a string"
      ],
      "execution_count": null,
      "outputs": []
    },
    {
      "cell_type": "code",
      "metadata": {
        "colab": {
          "base_uri": "https://localhost:8080/"
        },
        "id": "hHHHRo0EyH9m",
        "outputId": "6876ebc0-5713-4302-9ded-2cc9b030d5f3"
      },
      "source": [
        "def char_frequency(str):\r\n",
        "    dict = {}\r\n",
        "    for x in str:\r\n",
        "        keys = dict.keys()\r\n",
        "        if x in keys:\r\n",
        "            dict[x] += 1\r\n",
        "        else:\r\n",
        "            dict[x] = 1\r\n",
        "    return dict\r\n",
        "print(char_frequency('python'))"
      ],
      "execution_count": null,
      "outputs": [
        {
          "output_type": "stream",
          "text": [
            "{'p': 1, 'y': 1, 't': 1, 'h': 1, 'o': 1, 'n': 1}\n"
          ],
          "name": "stdout"
        }
      ]
    },
    {
      "cell_type": "code",
      "metadata": {
        "id": "ouvS9UnU3jDw"
      },
      "source": [
        "7. Add 'ing' at the end of a given string.If it already ends with 'ing' then add 'ly'"
      ],
      "execution_count": null,
      "outputs": []
    },
    {
      "cell_type": "code",
      "metadata": {
        "colab": {
          "base_uri": "https://localhost:8080/"
        },
        "id": "yZNyzX-D2K5b",
        "outputId": "1ed5f9eb-1984-4833-ec4e-dd6bf2be1825"
      },
      "source": [
        "def add_string(str1):\r\n",
        "  length = len(str1)\r\n",
        "\r\n",
        "  if length > 1:\r\n",
        "    if str1[-3:] == 'ing':\r\n",
        "      str1 += 'ly'\r\n",
        "    else:\r\n",
        "      str1 += 'ing'\r\n",
        "\r\n",
        "  return str1\r\n",
        "print(add_string('ki'))\r\n",
        "print(add_string('python'))\r\n",
        "print(add_string('calling'))"
      ],
      "execution_count": null,
      "outputs": [
        {
          "output_type": "stream",
          "text": [
            "kiing\n",
            "pythoning\n",
            "callingly\n"
          ],
          "name": "stdout"
        }
      ]
    },
    {
      "cell_type": "code",
      "metadata": {
        "id": "YMGr-yqBdvcS"
      },
      "source": [
        "8. Accept a list of words and return length of longest word. "
      ],
      "execution_count": null,
      "outputs": []
    },
    {
      "cell_type": "code",
      "metadata": {
        "colab": {
          "base_uri": "https://localhost:8080/"
        },
        "id": "6sdpDeIWdige",
        "outputId": "da027d8c-a3c3-4801-bf82-bb56ff65062d"
      },
      "source": [
        "def longestLength(a): \r\n",
        "    max1 = len(a[0]) \r\n",
        "    temp = a[0] \r\n",
        "    for i in a: \r\n",
        "        if(len(i) > max1): \r\n",
        "            max1 = len(i) \r\n",
        "            temp = i \r\n",
        "    print(\"The word with the longest length is : \", temp , \"and length is \", max1) \r\n",
        "a = input(\"Enter a list of words separated by comma : \")\r\n",
        "a = a.split(\",\") \r\n",
        "print(\"The list is : \" , a)\r\n",
        "longestLength(a) "
      ],
      "execution_count": 13,
      "outputs": [
        {
          "output_type": "stream",
          "text": [
            "Enter a list of words separated by comma : hello,welcome,laptop\n",
            "The list is :  ['hello', 'welcome', 'laptop']\n",
            "The word with the longest length is :  welcome and length is  7\n"
          ],
          "name": "stdout"
        }
      ]
    },
    {
      "cell_type": "code",
      "metadata": {
        "id": "MOlXl0g6Y5wu"
      },
      "source": [
        "9. Construct the pattern using nested loop"
      ],
      "execution_count": null,
      "outputs": []
    },
    {
      "cell_type": "code",
      "metadata": {
        "id": "kTLx9TOG3kjy",
        "colab": {
          "base_uri": "https://localhost:8080/"
        },
        "outputId": "5ecd76a4-0086-497d-9a97-cf90e41feb05"
      },
      "source": [
        "n=int(input(\"How many lines you want? : \"))\r\n",
        "m = (2 * n) - 2\r\n",
        "for i in range(0, n):\r\n",
        "    for j in range(0, m):\r\n",
        "        print(end=\" \")\r\n",
        "    m = m - 1 \r\n",
        "    for j in range(0, i + 1):\r\n",
        "        print(\"* \", end=' ')\r\n",
        "    print(\" \")"
      ],
      "execution_count": null,
      "outputs": [
        {
          "output_type": "stream",
          "text": [
            "How many lines you want? : 5\n",
            "        *   \n",
            "       *  *   \n",
            "      *  *  *   \n",
            "     *  *  *  *   \n",
            "    *  *  *  *  *   \n"
          ],
          "name": "stdout"
        }
      ]
    },
    {
      "cell_type": "code",
      "metadata": {
        "id": "t2iNhHMm6CrM"
      },
      "source": [
        ""
      ],
      "execution_count": null,
      "outputs": []
    },
    {
      "cell_type": "code",
      "metadata": {
        "id": "ux6NIphvZM-H"
      },
      "source": [
        "10. Python Program to find the factors of a number"
      ],
      "execution_count": null,
      "outputs": []
    },
    {
      "cell_type": "code",
      "metadata": {
        "colab": {
          "base_uri": "https://localhost:8080/"
        },
        "id": "44TdWM5VZCtt",
        "outputId": "6d746b9c-020d-4c11-cd61-c171050e6cde"
      },
      "source": [
        "def print_factors(x):\r\n",
        "   print(\"The factors of\" , x , \"are : \")\r\n",
        "   for i in range(1, x + 1):\r\n",
        "       if x % i == 0:\r\n",
        "           print(i)\r\n",
        "\r\n",
        "num = int(input(\"Enter a number : \"))\r\n",
        "print_factors(num)"
      ],
      "execution_count": null,
      "outputs": [
        {
          "output_type": "stream",
          "text": [
            "Enter a number : 6\n",
            "The factors of 6 are : \n",
            "1\n",
            "2\n",
            "3\n",
            "6\n"
          ],
          "name": "stdout"
        }
      ]
    },
    {
      "cell_type": "code",
      "metadata": {
        "id": "zN7txCxwaGVc"
      },
      "source": [
        "11. Write lambda functions to find area of square,rectangle and circle"
      ],
      "execution_count": null,
      "outputs": []
    },
    {
      "cell_type": "code",
      "metadata": {
        "colab": {
          "base_uri": "https://localhost:8080/"
        },
        "id": "EHBI6nIqZUQY",
        "outputId": "138047d0-052b-4949-88c5-0ce63da27fcd"
      },
      "source": [
        "square_area = lambda l : l * l\r\n",
        "l = int(input(\"Enter length of the square : \"))\r\n",
        "print(\"Area of the square : \" , square_area(l))\r\n",
        "\r\n",
        "rect_area = lambda l , b : l * b\r\n",
        "l = int(input(\"\\nEnter the length of rectangle : \"))\r\n",
        "b= int(input(\"Enter the breadth of rectangle : \"))\r\n",
        "print(\"Area of the rectangle : \" , rect_area(l , b))\r\n",
        "\r\n",
        "triangle_area = lambda b , h : 0.5 * b * h\r\n",
        "b = int(input(\"\\nEnter base of triangle : \"))\r\n",
        "h = int(input(\"Enter height of triangle : \"))\r\n",
        "print(\"Area of the triangle : \" , triangle_area(b , h))"
      ],
      "execution_count": null,
      "outputs": [
        {
          "output_type": "stream",
          "text": [
            "Enter length of the square : 5\n",
            "Area of the square :  25\n",
            "\n",
            "Enter the length of rectangle : 10\n",
            "Enter the breadth of rectangle : 5\n",
            "Area of the rectangle :  50\n",
            "\n",
            "Enter base of triangle : 7\n",
            "Enter height of triangle : 5\n",
            "Area of the triangle :  17.5\n"
          ],
          "name": "stdout"
        }
      ]
    },
    {
      "cell_type": "code",
      "metadata": {
        "id": "GTkF39AUXDSm"
      },
      "source": [
        ""
      ],
      "execution_count": null,
      "outputs": []
    }
  ]
}