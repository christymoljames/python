{
  "nbformat": 4,
  "nbformat_minor": 0,
  "metadata": {
    "colab": {
      "name": "pythoncycle2.ipynb",
      "provenance": [],
      "collapsed_sections": []
    },
    "kernelspec": {
      "display_name": "Python 3",
      "name": "python3"
    }
  },
  "cells": [
    {
      "cell_type": "code",
      "metadata": {
        "colab": {
          "base_uri": "https://localhost:8080/"
        },
        "id": "hltPW61F4II_",
        "outputId": "82bdf06b-cf9f-4add-ac43-ba2106ab84bb"
      },
      "source": [
        "11. Biggest of 3 numbers.\r\n",
        "\r\n",
        "num1 = float(input(\"Enter first number: \"))\r\n",
        "num2 = float(input(\"Enter second number: \"))\r\n",
        "num3 = float(input(\"Enter third number: \"))\r\n",
        " \r\n",
        "if (num1 > num2) and (num1 > num3):\r\n",
        "   largest = num1\r\n",
        "elif (num2 > num1) and (num2 > num3):\r\n",
        "   largest = num2\r\n",
        "else:\r\n",
        "   largest = num3\r\n",
        " \r\n",
        "print(\"The largest number is\",largest)"
      ],
      "execution_count": null,
      "outputs": [
        {
          "output_type": "stream",
          "text": [
            "Enter first number: 4\n",
            "Enter second number: 2\n",
            "Enter third number: 1\n",
            "The largest number is 4.0\n"
          ],
          "name": "stdout"
        }
      ]
    },
    {
      "cell_type": "code",
      "metadata": {
        "id": "ukvb5rp632Jt"
      },
      "source": [
        "4. count the occurence of each word in aline of text"
      ],
      "execution_count": null,
      "outputs": []
    },
    {
      "cell_type": "code",
      "metadata": {
        "colab": {
          "base_uri": "https://localhost:8080/"
        },
        "id": "GgAq9-qa3poz",
        "outputId": "94078cd4-5fc1-481d-e0f3-b20bbc448cd1"
      },
      "source": [
        "def word_count(str):\r\n",
        "    counts = dict()\r\n",
        "    words = str.split()\r\n",
        "\r\n",
        "    for word in words:\r\n",
        "        if word in counts:\r\n",
        "            counts[word] += 1\r\n",
        "        else:\r\n",
        "            counts[word] = 1\r\n",
        "\r\n",
        "    return counts\r\n",
        "\r\n",
        "print( word_count('the quick brown fox jumps over the lazy dog.'))\r\n"
      ],
      "execution_count": null,
      "outputs": [
        {
          "output_type": "stream",
          "text": [
            "{'the': 2, 'quick': 1, 'brown': 1, 'fox': 1, 'jumps': 1, 'over': 1, 'lazy': 1, 'dog.': 1}\n"
          ],
          "name": "stdout"
        }
      ]
    },
    {
      "cell_type": "code",
      "metadata": {
        "id": "uxE8O8xpCA_k"
      },
      "source": [
        ""
      ],
      "execution_count": null,
      "outputs": []
    },
    {
      "cell_type": "code",
      "metadata": {
        "id": "ThzjtwRo4KRi"
      },
      "source": [
        "12. Accept a file name from user and print extension of that."
      ],
      "execution_count": null,
      "outputs": []
    },
    {
      "cell_type": "code",
      "metadata": {
        "colab": {
          "base_uri": "https://localhost:8080/"
        },
        "id": "zZplZ0kn_kVS",
        "outputId": "bca880fe-6f3d-4408-84df-e164f33ec1d0"
      },
      "source": [
        "\r\n",
        "filename = input(\"Input the Filename: \")\r\n",
        "f_extns = filename.split(\".\")\r\n",
        "print (\"The extension of the file is : \" + repr(f_extns[-1]))"
      ],
      "execution_count": null,
      "outputs": [
        {
          "output_type": "stream",
          "text": [
            "Input the Filename: abc.python\n",
            "The extension of the file is : 'python'\n"
          ],
          "name": "stdout"
        }
      ]
    },
    {
      "cell_type": "code",
      "metadata": {
        "id": "3salXmqT3bu8"
      },
      "source": [
        "14. Accept an integer n and compute n+nn+nnn."
      ],
      "execution_count": null,
      "outputs": []
    },
    {
      "cell_type": "code",
      "metadata": {
        "colab": {
          "base_uri": "https://localhost:8080/"
        },
        "id": "4Z0AL9vAv2ma",
        "outputId": "26bddc28-f373-4fbd-d10a-121881c318c4"
      },
      "source": [
        "a = int(input(\"Input an integer : \"))\r\n",
        "n1 = int( \"%s\" % a )\r\n",
        "n2 = int( \"%s%s\" % (a,a) )\r\n",
        "n3 = int( \"%s%s%s\" % (a,a,a) )\r\n",
        "print (n1+n2+n3)"
      ],
      "execution_count": null,
      "outputs": [
        {
          "output_type": "stream",
          "text": [
            "Input an integer : 10\n",
            "102030\n"
          ],
          "name": "stdout"
        }
      ]
    },
    {
      "cell_type": "code",
      "metadata": {
        "id": "3UFgR-po3OJu"
      },
      "source": [
        "17. Sort dictionary in ascending and descending order. "
      ],
      "execution_count": null,
      "outputs": []
    },
    {
      "cell_type": "code",
      "metadata": {
        "colab": {
          "base_uri": "https://localhost:8080/"
        },
        "id": "9rUFPcDayi4m",
        "outputId": "bef715c6-7e5e-4d45-997f-bf4cd073a77f"
      },
      "source": [
        "import operator\r\n",
        "\r\n",
        "d = {1: 2, 3: 4, 4: 3, 2: 1, 0: 0}\r\n",
        "\r\n",
        "s= sorted(d.items(), key=operator.itemgetter(1))\r\n",
        "\r\n",
        "print('ascending order : ',s)\r\n",
        "\r\n",
        "s1= dict( sorted(d.items(), key=operator.itemgetter(1),reverse=True))\r\n",
        "\r\n",
        "print('descending order : ',s1)"
      ],
      "execution_count": null,
      "outputs": [
        {
          "output_type": "stream",
          "text": [
            "ascending order :  [(0, 0), (2, 1), (1, 2), (4, 3), (3, 4)]\n",
            "descending order :  {3: 4, 4: 3, 1: 2, 2: 1, 0: 0}\n"
          ],
          "name": "stdout"
        }
      ]
    },
    {
      "cell_type": "code",
      "metadata": {
        "id": "k7USoFVK3CwG"
      },
      "source": [
        "13. Create a list of colors from comma-separated color names entered by user. Display\r\n",
        " first and last colors\r\n"
      ],
      "execution_count": null,
      "outputs": []
    },
    {
      "cell_type": "code",
      "metadata": {
        "colab": {
          "base_uri": "https://localhost:8080/"
        },
        "id": "KOsc6M-EypnD",
        "outputId": "6c19472f-aef0-44d2-f27c-25f94c1b2052"
      },
      "source": [
        "color_list = [\"Red\",\"Green\",\"White\" ,\"Black\"]\r\n",
        "print( \"%s %s\"%(color_list[0],color_list[-1]))"
      ],
      "execution_count": null,
      "outputs": [
        {
          "output_type": "stream",
          "text": [
            "Red Black\n"
          ],
          "name": "stdout"
        }
      ]
    },
    {
      "cell_type": "code",
      "metadata": {
        "id": "FsZBbVSi7DTc"
      },
      "source": [
        "19. Find gcd of 2 numbers."
      ],
      "execution_count": null,
      "outputs": []
    },
    {
      "cell_type": "code",
      "metadata": {
        "colab": {
          "base_uri": "https://localhost:8080/"
        },
        "id": "VvbM4pKLzpdS",
        "outputId": "66d4081b-906f-49d1-dc21-75f05a763e65"
      },
      "source": [
        "import math \r\n",
        "   \r\n",
        "print(\"The gcd of 60 and 48 is : \", end=\"\") \r\n",
        "print(math.gcd(60, 48)) "
      ],
      "execution_count": null,
      "outputs": [
        {
          "output_type": "stream",
          "text": [
            "The gcd of 60 and 48 is : 12\n"
          ],
          "name": "stdout"
        }
      ]
    },
    {
      "cell_type": "code",
      "metadata": {
        "id": "kWxv5e1i1SOF"
      },
      "source": [
        "18.merge two dictionaries"
      ],
      "execution_count": null,
      "outputs": []
    },
    {
      "cell_type": "code",
      "metadata": {
        "colab": {
          "base_uri": "https://localhost:8080/"
        },
        "id": "nVvAMfbH0uIA",
        "outputId": "40ac3ef8-1c5a-47b3-ff45-4d650de14f8c"
      },
      "source": [
        "def Merge(dict1, dict2):\r\n",
        "    return(dict2.update(dict1))\r\n",
        "     \r\n",
        "\r\n",
        "dict1 = {'a': 10, 'b': 8}\r\n",
        "dict2 = {'d': 6, 'c': 4}\r\n",
        " \r\n",
        "\r\n",
        "print(Merge(dict1, dict2))\r\n",
        " \r\n",
        "\r\n",
        "print(dict2)"
      ],
      "execution_count": null,
      "outputs": [
        {
          "output_type": "stream",
          "text": [
            "None\n",
            "{'d': 6, 'c': 4, 'a': 10, 'b': 8}\n"
          ],
          "name": "stdout"
        }
      ]
    },
    {
      "cell_type": "code",
      "metadata": {
        "id": "4elmzdmj2z_d"
      },
      "source": [
        "20. From a list of integers, create a list removing even numbers."
      ],
      "execution_count": null,
      "outputs": []
    },
    {
      "cell_type": "code",
      "metadata": {
        "colab": {
          "base_uri": "https://localhost:8080/"
        },
        "id": "QwP236KP2aVa",
        "outputId": "0df5f4e7-e8c1-4af9-e224-f37fd1be7414"
      },
      "source": [
        "num = [7,8, 120, 25, 44, 20, 27]\r\n",
        "num = [x for x in num if x%2!=0]\r\n",
        "print(num)\r\n"
      ],
      "execution_count": null,
      "outputs": [
        {
          "output_type": "stream",
          "text": [
            "[7, 25, 27]\n"
          ],
          "name": "stdout"
        }
      ]
    },
    {
      "cell_type": "code",
      "metadata": {
        "id": "wOW1zezS5mrm"
      },
      "source": [
        "9. Create a string from given string where first and last characters exchanged"
      ],
      "execution_count": null,
      "outputs": []
    },
    {
      "cell_type": "code",
      "metadata": {
        "colab": {
          "base_uri": "https://localhost:8080/"
        },
        "id": "zE1zuJ0W5jaS",
        "outputId": "4aa8d60f-8d47-4d3d-ccc2-08e9a311a624"
      },
      "source": [
        "def change_sring(str1):\r\n",
        "      return str1[-1:] + str1[1:-1] + str1[:1]\r\n",
        "\t  \r\n",
        "print(change_sring('abcd'))\r\n",
        "print(change_sring('12345'))"
      ],
      "execution_count": null,
      "outputs": [
        {
          "output_type": "stream",
          "text": [
            "dbca\n",
            "52341\n"
          ],
          "name": "stdout"
        }
      ]
    },
    {
      "cell_type": "code",
      "metadata": {
        "id": "rJya01J86IrH"
      },
      "source": [
        "10. Accept the radius from user and find area of circle."
      ],
      "execution_count": null,
      "outputs": []
    },
    {
      "cell_type": "code",
      "metadata": {
        "colab": {
          "base_uri": "https://localhost:8080/"
        },
        "id": "i38r1IXL6FrW",
        "outputId": "f1ccc5f0-73b8-4e3c-97f3-9efa76f20ed2"
      },
      "source": [
        "from math import pi\r\n",
        "r = float(input (\"Input the radius of the circle : \"))\r\n",
        "print (\"The area of the circle with radius \" + str(r) + \" is: \" + str(pi * r**2))"
      ],
      "execution_count": null,
      "outputs": [
        {
          "output_type": "stream",
          "text": [
            "Input the radius of the circle : 3\n",
            "The area of the circle with radius 3.0 is: 28.274333882308138\n"
          ],
          "name": "stdout"
        }
      ]
    },
    {
      "cell_type": "code",
      "metadata": {
        "id": "klqn-qiV6w7s"
      },
      "source": [
        "15. Print out all colors from color-list1 not contained in color-list2."
      ],
      "execution_count": null,
      "outputs": []
    },
    {
      "cell_type": "code",
      "metadata": {
        "colab": {
          "base_uri": "https://localhost:8080/"
        },
        "id": "rD0B5CXR6p8X",
        "outputId": "9d15893f-fb54-446b-d867-c42a3416ddd8"
      },
      "source": [
        "color_list_1 = set([\"White\", \"Black\", \"Red\"])\r\n",
        "color_list_2 = set([\"Red\", \"Green\"])\r\n",
        "\r\n",
        "print(color_list_1.difference(color_list_2))\r\n"
      ],
      "execution_count": null,
      "outputs": [
        {
          "output_type": "stream",
          "text": [
            "{'Black', 'White'}\n"
          ],
          "name": "stdout"
        }
      ]
    },
    {
      "cell_type": "code",
      "metadata": {
        "id": "d38eiHfJ7gaY"
      },
      "source": [
        "16. Create a single string separated with space from two strings by swapping the\r\n",
        " character at position 1.\r\n"
      ],
      "execution_count": null,
      "outputs": []
    },
    {
      "cell_type": "code",
      "metadata": {
        "colab": {
          "base_uri": "https://localhost:8080/"
        },
        "id": "bFVHTWlP7Y1i",
        "outputId": "783db41a-1455-47b5-9292-7c4014864123"
      },
      "source": [
        "def chars_mix_up(a, b):\r\n",
        "  new_a = b[:2] + a[2:]\r\n",
        "  new_b = a[:2] + b[2:]\r\n",
        "\r\n",
        "  return new_a + ' ' + new_b\r\n",
        "print(chars_mix_up('abc', 'xyz'))"
      ],
      "execution_count": null,
      "outputs": [
        {
          "output_type": "stream",
          "text": [
            "xyc abz\n"
          ],
          "name": "stdout"
        }
      ]
    },
    {
      "cell_type": "code",
      "metadata": {
        "id": "4mc4u3rv2EMa"
      },
      "source": [
        "2.Display future leap years from current year to a final year entered by user."
      ],
      "execution_count": null,
      "outputs": []
    },
    {
      "cell_type": "code",
      "metadata": {
        "colab": {
          "base_uri": "https://localhost:8080/"
        },
        "id": "kumltNP00gv-",
        "outputId": "136032c3-325c-430b-9ef7-5c89bd80bdae"
      },
      "source": [
        "y = int(input(\"Enter the final year : \"))\r\n",
        "print(\"Future leap years from 2021 : \")\r\n",
        "for x in range (2021 , y+1):\r\n",
        " if((x%4==0) and (x%100!=0)) or (x%400==0):\r\n",
        "   print(x)"
      ],
      "execution_count": null,
      "outputs": [
        {
          "output_type": "stream",
          "text": [
            "Enter the final year : 2030\n",
            "Future leap years from 2021 : \n",
            "2024\n",
            "2028\n"
          ],
          "name": "stdout"
        }
      ]
    },
    {
      "cell_type": "code",
      "metadata": {
        "id": "OqznSEcx4wtc"
      },
      "source": [
        "1.Print your address "
      ],
      "execution_count": null,
      "outputs": []
    },
    {
      "cell_type": "code",
      "metadata": {
        "colab": {
          "base_uri": "https://localhost:8080/"
        },
        "id": "akmci0yn4XPj",
        "outputId": "78793478-0b46-4cb4-d9c6-793d1f7df0c3"
      },
      "source": [
        "name = input(\"Enter name : \")\r\n",
        "age=int(input(\"Enter age : \"))\r\n",
        "address=input(\"Enter address : \")\r\n",
        "print(\"...Personal Details...\")\r\n",
        "print(\"Name : \" , name , \"\\nAge : \" , age , \"\\naddress : \" , address )"
      ],
      "execution_count": null,
      "outputs": [
        {
          "output_type": "stream",
          "text": [
            "Enter name : chritsy\n",
            "Enter age : 21\n",
            "Enter address : hellohello\n",
            "...Personal Details...\n",
            "Name :  chritsy \n",
            "Age :  21 \n",
            "address :  hellohello\n"
          ],
          "name": "stdout"
        }
      ]
    },
    {
      "cell_type": "code",
      "metadata": {
        "id": "d-tpwpP85pLD"
      },
      "source": [
        "8.Get a string from an input string where all occurrences of first character replaced with ‘$’, except first character.[eg: onion -> oni$n] "
      ],
      "execution_count": null,
      "outputs": []
    },
    {
      "cell_type": "code",
      "metadata": {
        "colab": {
          "base_uri": "https://localhost:8080/"
        },
        "id": "sWAHA4Qs46Uv",
        "outputId": "f2ff5a52-067b-4339-e924-84e5c555e353"
      },
      "source": [
        "def change_char(str1):\r\n",
        "  char = str1[0]\r\n",
        "  str1 = str1.replace(char, '$')\r\n",
        "  str1 = char + str1[1:]\r\n",
        "  return str1\r\n",
        "print(change_char('onion'))"
      ],
      "execution_count": null,
      "outputs": [
        {
          "output_type": "stream",
          "text": [
            "oni$n\n"
          ],
          "name": "stdout"
        }
      ]
    },
    {
      "cell_type": "code",
      "metadata": {
        "id": "OSDc3ctzX6hY"
      },
      "source": [
        "7a.check whether lists are of same length"
      ],
      "execution_count": null,
      "outputs": []
    },
    {
      "cell_type": "code",
      "metadata": {
        "colab": {
          "base_uri": "https://localhost:8080/"
        },
        "id": "pcO5prQPXlUW",
        "outputId": "542ea963-a1ad-4208-be74-1baba735e4b9"
      },
      "source": [
        "list1 = [1, 2, 4, 3, 8] \r\n",
        "list2 = [1, 2, 4, 3, 5] \r\n",
        "print (\"The first list is : \" + str(list1)) \r\n",
        "print (\"The second list is : \" + str(list2)) \r\n",
        "l1 = len(list1)\r\n",
        "l2 = len(list2)\r\n",
        "print(\"Length of list1 : \" , l1 , \"and Length of list2 : \" , l2)\r\n",
        "if l1 == l2: \r\n",
        "    print (\"The lists are of same length\") \r\n",
        "else : \r\n",
        "    print (\"The lists are of different length\") "
      ],
      "execution_count": 1,
      "outputs": [
        {
          "output_type": "stream",
          "text": [
            "The first list is : [1, 2, 4, 3, 8]\n",
            "The second list is : [1, 2, 4, 3, 5]\n",
            "Length of list1 :  5 and Length of list2 :  5\n",
            "The lists are of same length\n"
          ],
          "name": "stdout"
        }
      ]
    },
    {
      "cell_type": "code",
      "metadata": {
        "id": "8eqwT-SUYSHE"
      },
      "source": [
        "7b.check whether lists sums to same value"
      ],
      "execution_count": null,
      "outputs": []
    },
    {
      "cell_type": "code",
      "metadata": {
        "colab": {
          "base_uri": "https://localhost:8080/"
        },
        "id": "NYUmq3yJYMfE",
        "outputId": "8a3e9eab-fbd1-47a2-b9a5-586bcceb2943"
      },
      "source": [
        "list1 = [1, 2, 4, 3, 8] \r\n",
        "list2 = [1, 2, 4, 3, 5] \r\n",
        "print (\"The first list is : \" + str(list1)) \r\n",
        "print (\"The second list is : \" + str(list2)) \r\n",
        "sum1 = 0\r\n",
        "sum2 = 0\r\n",
        "for x in range(0, len(list1)):\r\n",
        "    sum1 = sum1 + list1[x]\r\n",
        "print(\"Sum of all elements in given list1 : \", sum1)\r\n",
        "for x in range(0, len(list2)):\r\n",
        "    sum2 = sum2 + list2[x]\r\n",
        "print(\"Sum of all elements in given list2 : \", sum2)    \r\n",
        "if( sum1 == sum2):\r\n",
        "  print(\"Lists sums to same value\")\r\n",
        "else:\r\n",
        "  print(\"Lists sums to different value\")"
      ],
      "execution_count": 2,
      "outputs": [
        {
          "output_type": "stream",
          "text": [
            "The first list is : [1, 2, 4, 3, 8]\n",
            "The second list is : [1, 2, 4, 3, 5]\n",
            "Sum of all elements in given list1 :  18\n",
            "Sum of all elements in given list2 :  15\n",
            "Lists sums to different value\n"
          ],
          "name": "stdout"
        }
      ]
    },
    {
      "cell_type": "code",
      "metadata": {
        "colab": {
          "base_uri": "https://localhost:8080/"
        },
        "id": "flK6DT0Y5r-n",
        "outputId": "660b184a-ad07-41aa-cd7d-4829d9a5507a"
      },
      "source": [
        "7c.check whether any value occur in both\r\n",
        "list1 = [1, 2, 4, 3, 8] \r\n",
        "list2 = [1, 2, 4, 3, 5] \r\n",
        "print (\"The first list is : \" + str(list1)) \r\n",
        "print (\"The second list is : \" + str(list2)) \r\n",
        "print(\"The values occur in both lists : \")\r\n",
        "for x in list1:\r\n",
        "  if(x in list1 and x in list2):\r\n",
        "    print(x)"
      ],
      "execution_count": null,
      "outputs": [
        {
          "output_type": "stream",
          "text": [
            "The first list is : [1, 2, 4, 3, 8]\n",
            "The second list is : [1, 2, 4, 3, 5]\n",
            "The values occur in both lists : \n",
            "1\n",
            "2\n",
            "4\n",
            "3\n"
          ],
          "name": "stdout"
        }
      ]
    },
    {
      "cell_type": "code",
      "metadata": {
        "id": "mSnfF-Y192qf"
      },
      "source": [
        "3a..Generate positive list of numbers from a given list of intgers"
      ],
      "execution_count": null,
      "outputs": []
    },
    {
      "cell_type": "code",
      "metadata": {
        "colab": {
          "base_uri": "https://localhost:8080/"
        },
        "id": "5IfAbAFM8WTy",
        "outputId": "92f5afe7-695d-499d-8fa3-381065f94ccb"
      },
      "source": [
        "mylist=[23 , 58 , -12 , 90 , -45 , 81 , 49 , -36] \r\n",
        "print(\"First list : \", mylist)\r\n",
        "newlist=[x for x in mylist if x > 0]\r\n",
        "print(\"New list : \" ,newlist)"
      ],
      "execution_count": null,
      "outputs": [
        {
          "output_type": "stream",
          "text": [
            "First list :  [23, 58, -12, 90, -45, 81, 49, -36]\n",
            "New list :  [23, 58, 90, 81, 49]\n"
          ],
          "name": "stdout"
        }
      ]
    },
    {
      "cell_type": "code",
      "metadata": {
        "id": "lavIrjT_-M9_"
      },
      "source": [
        "3b..Square of N numbers"
      ],
      "execution_count": null,
      "outputs": []
    },
    {
      "cell_type": "code",
      "metadata": {
        "colab": {
          "base_uri": "https://localhost:8080/"
        },
        "id": "o8OAVpPs-CeS",
        "outputId": "0d1c53ff-c35e-4df7-8f75-c2d18ebfc9ef"
      },
      "source": [
        "mylist=[2 ,5 , 3 , 8]\r\n",
        "print(\"First list : \" ,mylist)\r\n",
        "newlist=[number ** 2 for number in mylist]\r\n",
        "print(\"New list : \" ,newlist)"
      ],
      "execution_count": null,
      "outputs": [
        {
          "output_type": "stream",
          "text": [
            "First list :  [2, 5, 3, 8]\n",
            "New list :  [4, 25, 9, 64]\n"
          ],
          "name": "stdout"
        }
      ]
    },
    {
      "cell_type": "code",
      "metadata": {
        "id": "gQQpl0mP-j_d"
      },
      "source": [
        "3c.Form a list of vowels selected from a given word"
      ],
      "execution_count": null,
      "outputs": []
    },
    {
      "cell_type": "code",
      "metadata": {
        "colab": {
          "base_uri": "https://localhost:8080/"
        },
        "id": "MCDsOvKQ-SbD",
        "outputId": "8a6eacbf-b731-4dca-88c4-036c84685435"
      },
      "source": [
        "word=input(\"Enter a word : \")\r\n",
        "vowels=[\"a\" , \"e\" , \"i\" , \"o\" , \"u\"]\r\n",
        "list=[]\r\n",
        "for x in word:\r\n",
        "  if(x in vowels and x not in list):\r\n",
        "    list.append(x)\r\n",
        "print(\"Vowels in the given word : \" , list)    \r\n"
      ],
      "execution_count": null,
      "outputs": [
        {
          "output_type": "stream",
          "text": [
            "Enter a word : hello\n",
            "Vowels in the given word :  ['e', 'o']\n"
          ],
          "name": "stdout"
        }
      ]
    },
    {
      "cell_type": "code",
      "metadata": {
        "id": "dLDOofypqVc3"
      },
      "source": [
        "3d.Form a list of vowels selected from a given word (d)List ordinal value of each element of a word (Hint: use ord() to get ordinal values) "
      ],
      "execution_count": null,
      "outputs": []
    },
    {
      "cell_type": "code",
      "metadata": {
        "colab": {
          "base_uri": "https://localhost:8080/"
        },
        "id": "pLiOudr_Buva",
        "outputId": "b15c51e1-8426-424a-81c7-e7d95ded5048"
      },
      "source": [
        "w=input(\"enter any word : \")\r\n",
        "for l in range(len(w)) :\r\n",
        "   print(\"ASCII value is\",w[1],\"is\",ord(w[l]))"
      ],
      "execution_count": null,
      "outputs": [
        {
          "output_type": "stream",
          "text": [
            "enter any word : hello\n",
            "ASCII value is e is 104\n",
            "ASCII value is e is 101\n",
            "ASCII value is e is 108\n",
            "ASCII value is e is 108\n",
            "ASCII value is e is 111\n"
          ],
          "name": "stdout"
        }
      ]
    },
    {
      "cell_type": "code",
      "metadata": {
        "id": "9H6Nn162Z30R"
      },
      "source": [
        "5.Prompt the user for a list of integers. For all values greater than 100, store ‘over’ instead"
      ],
      "execution_count": null,
      "outputs": []
    },
    {
      "cell_type": "code",
      "metadata": {
        "colab": {
          "base_uri": "https://localhost:8080/"
        },
        "id": "QmkumJ0xqg3v",
        "outputId": "ca4f054e-f2db-48a8-b6a9-a2c45d8f29ce"
      },
      "source": [
        "x=[]\r\n",
        "n=int(input(\"enter any integers :\"))\r\n",
        "for i in range(1,n+1):\r\n",
        "  a=int(input())\r\n",
        "  if (a>100):\r\n",
        "     x.append('over')\r\n",
        "  else:\r\n",
        "      x.append(a)\r\n",
        "  print(\"modified list :\" ,x)"
      ],
      "execution_count": 4,
      "outputs": [
        {
          "output_type": "stream",
          "text": [
            "enter any integers :4\n",
            "50\n",
            "modified list : [50]\n",
            "100\n",
            "modified list : [50, 100]\n",
            "200\n",
            "modified list : [50, 100, 'over']\n",
            "300\n",
            "modified list : [50, 100, 'over', 'over']\n"
          ],
          "name": "stdout"
        }
      ]
    },
    {
      "cell_type": "code",
      "metadata": {
        "id": "3mQ80AiobYit"
      },
      "source": [
        "6.Store a list of first names. Count the occurrences of ‘a’ within the list"
      ],
      "execution_count": null,
      "outputs": []
    },
    {
      "cell_type": "code",
      "metadata": {
        "colab": {
          "base_uri": "https://localhost:8080/"
        },
        "id": "6QQYrXCpbGsG",
        "outputId": "ff8fbb07-f90e-4834-c6ab-7f1cada8e9e4"
      },
      "source": [
        "name =input(\"Enter the first names : \")\r\n",
        "list = []\r\n",
        "count = 0\r\n",
        "for x in name:\r\n",
        " list.append(x)\r\n",
        " if(x in name and x == 'a'):\r\n",
        "   count = count + 1\r\n",
        "print(count)"
      ],
      "execution_count": 5,
      "outputs": [
        {
          "output_type": "stream",
          "text": [
            "Enter the first names : secondary storage\n",
            "2\n"
          ],
          "name": "stdout"
        }
      ]
    }
  ]
}